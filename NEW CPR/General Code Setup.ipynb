{
 "cells": [
  {
   "cell_type": "markdown",
   "metadata": {},
   "source": [
    "# General Code Setup"
   ]
  },
  {
   "cell_type": "markdown",
   "metadata": {},
   "source": [
    "## -Preperation-"
   ]
  },
  {
   "cell_type": "markdown",
   "metadata": {},
   "source": [
    "this section takes data and prepares it for CPR"
   ]
  },
  {
   "cell_type": "markdown",
   "metadata": {},
   "source": [
    "### --Base Extra (BaseExtra)--"
   ]
  },
  {
   "cell_type": "markdown",
   "metadata": {},
   "source": [
    "this module includes basic items used in preperation"
   ]
  },
  {
   "cell_type": "markdown",
   "metadata": {},
   "source": [
    "### --LaptopPrepExample--"
   ]
  },
  {
   "cell_type": "markdown",
   "metadata": {},
   "source": [
    "this module is made for the laptop data example"
   ]
  },
  {
   "cell_type": "markdown",
   "metadata": {},
   "source": [
    "### --Prep--"
   ]
  },
  {
   "cell_type": "markdown",
   "metadata": {},
   "source": [
    "this module is used on data to prepare it for cpr using "
   ]
  },
  {
   "cell_type": "markdown",
   "metadata": {},
   "source": [
    "## -Excecution-"
   ]
  },
  {
   "cell_type": "markdown",
   "metadata": {},
   "source": [
    "this section takes the data and trains the cpr model"
   ]
  },
  {
   "cell_type": "markdown",
   "metadata": {},
   "source": [
    "### --Decision--"
   ]
  },
  {
   "cell_type": "markdown",
   "metadata": {},
   "source": [
    "this module takes decisions and uses it to train a prediction module"
   ]
  },
  {
   "cell_type": "markdown",
   "metadata": {},
   "source": [
    "## -Diagnostics-"
   ]
  },
  {
   "cell_type": "markdown",
   "metadata": {},
   "source": [
    "this section takes the cpr model and runs diagnosis on it"
   ]
  },
  {
   "cell_type": "code",
   "execution_count": null,
   "metadata": {},
   "outputs": [],
   "source": []
  }
 ],
 "metadata": {
  "kernelspec": {
   "display_name": "Python 3",
   "language": "python",
   "name": "python3"
  },
  "language_info": {
   "codemirror_mode": {
    "name": "ipython",
    "version": 3
   },
   "file_extension": ".py",
   "mimetype": "text/x-python",
   "name": "python",
   "nbconvert_exporter": "python",
   "pygments_lexer": "ipython3",
   "version": "3.8.10"
  }
 },
 "nbformat": 4,
 "nbformat_minor": 4
}
